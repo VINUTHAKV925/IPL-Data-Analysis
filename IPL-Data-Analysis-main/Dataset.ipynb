{
  "nbformat": 4,
  "nbformat_minor": 0,
  "metadata": {
    "colab": {
      "provenance": []
    },
    "kernelspec": {
      "name": "python3",
      "display_name": "Python 3"
    },
    "language_info": {
      "name": "python"
    }
  },
  "cells": [
    {
      "cell_type": "code",
      "execution_count": null,
      "metadata": {
        "id": "HfCJCwNQkaOE"
      },
      "outputs": [],
      "source": [
        "import pandas as pd"
      ]
    },
    {
      "cell_type": "code",
      "source": [
        "matches = pd.read_csv('/content/cleaned_matches.csv')\n",
        "deliveries = pd.read_csv('/content/cleaned_deliveries.csv')\n"
      ],
      "metadata": {
        "id": "hTiZ9o7HlGyZ"
      },
      "execution_count": null,
      "outputs": []
    },
    {
      "cell_type": "code",
      "source": [
        "matches['match_id'] = range(1, len(matches) + 1)"
      ],
      "metadata": {
        "id": "uk3wJ0jemhaR"
      },
      "execution_count": null,
      "outputs": []
    },
    {
      "cell_type": "code",
      "source": [
        "matches.to_csv('/content/updated_matches.csv', index=False)"
      ],
      "metadata": {
        "id": "Jx27X5rVmlbw"
      },
      "execution_count": null,
      "outputs": []
    },
    {
      "cell_type": "code",
      "source": [
        "matches.head()"
      ],
      "metadata": {
        "colab": {
          "base_uri": "https://localhost:8080/",
          "height": 434
        },
        "id": "woaxPJzdm0VZ",
        "outputId": "4cd89cbc-9d66-4172-8f0b-3fb8578280f6"
      },
      "execution_count": null,
      "outputs": [
        {
          "output_type": "execute_result",
          "data": {
            "text/plain": [
              "    season        city        date match_type player_of_match  \\\n",
              "0  2007/08   Bangalore  18-04-2008     League     BB McCullum   \n",
              "1  2007/08  Chandigarh  19-04-2008     League      MEK Hussey   \n",
              "2  2007/08       Delhi  19-04-2008     League     MF Maharoof   \n",
              "3  2007/08      Mumbai  20-04-2008     League      MV Boucher   \n",
              "4  2007/08     Kolkata  20-04-2008     League       DJ Hussey   \n",
              "\n",
              "                                        venue                        team1  \\\n",
              "0                       M Chinnaswamy Stadium  Royal Challengers Bangalore   \n",
              "1  Punjab Cricket Association Stadium, Mohali                 Punjab Kings   \n",
              "2                            Feroz Shah Kotla               Delhi Capitals   \n",
              "3                            Wankhede Stadium               Mumbai Indians   \n",
              "4                                Eden Gardens        Kolkata Knight Riders   \n",
              "\n",
              "                         team2                  toss_winner toss_decision  \\\n",
              "0        Kolkata Knight Riders  Royal Challengers Bangalore         field   \n",
              "1          Chennai Super Kings          Chennai Super Kings           bat   \n",
              "2             Rajasthan Royals             Rajasthan Royals           bat   \n",
              "3  Royal Challengers Bangalore               Mumbai Indians           bat   \n",
              "4              Deccan Chargers              Deccan Chargers           bat   \n",
              "\n",
              "                        winner   result  result_margin  target_runs  \\\n",
              "0        Kolkata Knight Riders     runs            140          223   \n",
              "1          Chennai Super Kings     runs             33          241   \n",
              "2               Delhi Capitals  wickets              9          130   \n",
              "3  Royal Challengers Bangalore  wickets              5          166   \n",
              "4        Kolkata Knight Riders  wickets              5          111   \n",
              "\n",
              "   target_overs super_over  is_super_over  margin_per_ball  match_id  \n",
              "0          20.0          N          False         1.166667         1  \n",
              "1          20.0          N          False         0.275000         2  \n",
              "2          20.0          N          False         0.075000         3  \n",
              "3          20.0          N          False         0.041667         4  \n",
              "4          20.0          N          False         0.041667         5  "
            ],
            "text/html": [
              "\n",
              "  <div id=\"df-d76c2e2d-8973-4c3f-905c-0a03b5bde2eb\" class=\"colab-df-container\">\n",
              "    <div>\n",
              "<style scoped>\n",
              "    .dataframe tbody tr th:only-of-type {\n",
              "        vertical-align: middle;\n",
              "    }\n",
              "\n",
              "    .dataframe tbody tr th {\n",
              "        vertical-align: top;\n",
              "    }\n",
              "\n",
              "    .dataframe thead th {\n",
              "        text-align: right;\n",
              "    }\n",
              "</style>\n",
              "<table border=\"1\" class=\"dataframe\">\n",
              "  <thead>\n",
              "    <tr style=\"text-align: right;\">\n",
              "      <th></th>\n",
              "      <th>season</th>\n",
              "      <th>city</th>\n",
              "      <th>date</th>\n",
              "      <th>match_type</th>\n",
              "      <th>player_of_match</th>\n",
              "      <th>venue</th>\n",
              "      <th>team1</th>\n",
              "      <th>team2</th>\n",
              "      <th>toss_winner</th>\n",
              "      <th>toss_decision</th>\n",
              "      <th>winner</th>\n",
              "      <th>result</th>\n",
              "      <th>result_margin</th>\n",
              "      <th>target_runs</th>\n",
              "      <th>target_overs</th>\n",
              "      <th>super_over</th>\n",
              "      <th>is_super_over</th>\n",
              "      <th>margin_per_ball</th>\n",
              "      <th>match_id</th>\n",
              "    </tr>\n",
              "  </thead>\n",
              "  <tbody>\n",
              "    <tr>\n",
              "      <th>0</th>\n",
              "      <td>2007/08</td>\n",
              "      <td>Bangalore</td>\n",
              "      <td>18-04-2008</td>\n",
              "      <td>League</td>\n",
              "      <td>BB McCullum</td>\n",
              "      <td>M Chinnaswamy Stadium</td>\n",
              "      <td>Royal Challengers Bangalore</td>\n",
              "      <td>Kolkata Knight Riders</td>\n",
              "      <td>Royal Challengers Bangalore</td>\n",
              "      <td>field</td>\n",
              "      <td>Kolkata Knight Riders</td>\n",
              "      <td>runs</td>\n",
              "      <td>140</td>\n",
              "      <td>223</td>\n",
              "      <td>20.0</td>\n",
              "      <td>N</td>\n",
              "      <td>False</td>\n",
              "      <td>1.166667</td>\n",
              "      <td>1</td>\n",
              "    </tr>\n",
              "    <tr>\n",
              "      <th>1</th>\n",
              "      <td>2007/08</td>\n",
              "      <td>Chandigarh</td>\n",
              "      <td>19-04-2008</td>\n",
              "      <td>League</td>\n",
              "      <td>MEK Hussey</td>\n",
              "      <td>Punjab Cricket Association Stadium, Mohali</td>\n",
              "      <td>Punjab Kings</td>\n",
              "      <td>Chennai Super Kings</td>\n",
              "      <td>Chennai Super Kings</td>\n",
              "      <td>bat</td>\n",
              "      <td>Chennai Super Kings</td>\n",
              "      <td>runs</td>\n",
              "      <td>33</td>\n",
              "      <td>241</td>\n",
              "      <td>20.0</td>\n",
              "      <td>N</td>\n",
              "      <td>False</td>\n",
              "      <td>0.275000</td>\n",
              "      <td>2</td>\n",
              "    </tr>\n",
              "    <tr>\n",
              "      <th>2</th>\n",
              "      <td>2007/08</td>\n",
              "      <td>Delhi</td>\n",
              "      <td>19-04-2008</td>\n",
              "      <td>League</td>\n",
              "      <td>MF Maharoof</td>\n",
              "      <td>Feroz Shah Kotla</td>\n",
              "      <td>Delhi Capitals</td>\n",
              "      <td>Rajasthan Royals</td>\n",
              "      <td>Rajasthan Royals</td>\n",
              "      <td>bat</td>\n",
              "      <td>Delhi Capitals</td>\n",
              "      <td>wickets</td>\n",
              "      <td>9</td>\n",
              "      <td>130</td>\n",
              "      <td>20.0</td>\n",
              "      <td>N</td>\n",
              "      <td>False</td>\n",
              "      <td>0.075000</td>\n",
              "      <td>3</td>\n",
              "    </tr>\n",
              "    <tr>\n",
              "      <th>3</th>\n",
              "      <td>2007/08</td>\n",
              "      <td>Mumbai</td>\n",
              "      <td>20-04-2008</td>\n",
              "      <td>League</td>\n",
              "      <td>MV Boucher</td>\n",
              "      <td>Wankhede Stadium</td>\n",
              "      <td>Mumbai Indians</td>\n",
              "      <td>Royal Challengers Bangalore</td>\n",
              "      <td>Mumbai Indians</td>\n",
              "      <td>bat</td>\n",
              "      <td>Royal Challengers Bangalore</td>\n",
              "      <td>wickets</td>\n",
              "      <td>5</td>\n",
              "      <td>166</td>\n",
              "      <td>20.0</td>\n",
              "      <td>N</td>\n",
              "      <td>False</td>\n",
              "      <td>0.041667</td>\n",
              "      <td>4</td>\n",
              "    </tr>\n",
              "    <tr>\n",
              "      <th>4</th>\n",
              "      <td>2007/08</td>\n",
              "      <td>Kolkata</td>\n",
              "      <td>20-04-2008</td>\n",
              "      <td>League</td>\n",
              "      <td>DJ Hussey</td>\n",
              "      <td>Eden Gardens</td>\n",
              "      <td>Kolkata Knight Riders</td>\n",
              "      <td>Deccan Chargers</td>\n",
              "      <td>Deccan Chargers</td>\n",
              "      <td>bat</td>\n",
              "      <td>Kolkata Knight Riders</td>\n",
              "      <td>wickets</td>\n",
              "      <td>5</td>\n",
              "      <td>111</td>\n",
              "      <td>20.0</td>\n",
              "      <td>N</td>\n",
              "      <td>False</td>\n",
              "      <td>0.041667</td>\n",
              "      <td>5</td>\n",
              "    </tr>\n",
              "  </tbody>\n",
              "</table>\n",
              "</div>\n",
              "    <div class=\"colab-df-buttons\">\n",
              "\n",
              "  <div class=\"colab-df-container\">\n",
              "    <button class=\"colab-df-convert\" onclick=\"convertToInteractive('df-d76c2e2d-8973-4c3f-905c-0a03b5bde2eb')\"\n",
              "            title=\"Convert this dataframe to an interactive table.\"\n",
              "            style=\"display:none;\">\n",
              "\n",
              "  <svg xmlns=\"http://www.w3.org/2000/svg\" height=\"24px\" viewBox=\"0 -960 960 960\">\n",
              "    <path d=\"M120-120v-720h720v720H120Zm60-500h600v-160H180v160Zm220 220h160v-160H400v160Zm0 220h160v-160H400v160ZM180-400h160v-160H180v160Zm440 0h160v-160H620v160ZM180-180h160v-160H180v160Zm440 0h160v-160H620v160Z\"/>\n",
              "  </svg>\n",
              "    </button>\n",
              "\n",
              "  <style>\n",
              "    .colab-df-container {\n",
              "      display:flex;\n",
              "      gap: 12px;\n",
              "    }\n",
              "\n",
              "    .colab-df-convert {\n",
              "      background-color: #E8F0FE;\n",
              "      border: none;\n",
              "      border-radius: 50%;\n",
              "      cursor: pointer;\n",
              "      display: none;\n",
              "      fill: #1967D2;\n",
              "      height: 32px;\n",
              "      padding: 0 0 0 0;\n",
              "      width: 32px;\n",
              "    }\n",
              "\n",
              "    .colab-df-convert:hover {\n",
              "      background-color: #E2EBFA;\n",
              "      box-shadow: 0px 1px 2px rgba(60, 64, 67, 0.3), 0px 1px 3px 1px rgba(60, 64, 67, 0.15);\n",
              "      fill: #174EA6;\n",
              "    }\n",
              "\n",
              "    .colab-df-buttons div {\n",
              "      margin-bottom: 4px;\n",
              "    }\n",
              "\n",
              "    [theme=dark] .colab-df-convert {\n",
              "      background-color: #3B4455;\n",
              "      fill: #D2E3FC;\n",
              "    }\n",
              "\n",
              "    [theme=dark] .colab-df-convert:hover {\n",
              "      background-color: #434B5C;\n",
              "      box-shadow: 0px 1px 3px 1px rgba(0, 0, 0, 0.15);\n",
              "      filter: drop-shadow(0px 1px 2px rgba(0, 0, 0, 0.3));\n",
              "      fill: #FFFFFF;\n",
              "    }\n",
              "  </style>\n",
              "\n",
              "    <script>\n",
              "      const buttonEl =\n",
              "        document.querySelector('#df-d76c2e2d-8973-4c3f-905c-0a03b5bde2eb button.colab-df-convert');\n",
              "      buttonEl.style.display =\n",
              "        google.colab.kernel.accessAllowed ? 'block' : 'none';\n",
              "\n",
              "      async function convertToInteractive(key) {\n",
              "        const element = document.querySelector('#df-d76c2e2d-8973-4c3f-905c-0a03b5bde2eb');\n",
              "        const dataTable =\n",
              "          await google.colab.kernel.invokeFunction('convertToInteractive',\n",
              "                                                    [key], {});\n",
              "        if (!dataTable) return;\n",
              "\n",
              "        const docLinkHtml = 'Like what you see? Visit the ' +\n",
              "          '<a target=\"_blank\" href=https://colab.research.google.com/notebooks/data_table.ipynb>data table notebook</a>'\n",
              "          + ' to learn more about interactive tables.';\n",
              "        element.innerHTML = '';\n",
              "        dataTable['output_type'] = 'display_data';\n",
              "        await google.colab.output.renderOutput(dataTable, element);\n",
              "        const docLink = document.createElement('div');\n",
              "        docLink.innerHTML = docLinkHtml;\n",
              "        element.appendChild(docLink);\n",
              "      }\n",
              "    </script>\n",
              "  </div>\n",
              "\n",
              "\n",
              "<div id=\"df-397680f6-fb34-4af2-b49a-6104820b7b3d\">\n",
              "  <button class=\"colab-df-quickchart\" onclick=\"quickchart('df-397680f6-fb34-4af2-b49a-6104820b7b3d')\"\n",
              "            title=\"Suggest charts\"\n",
              "            style=\"display:none;\">\n",
              "\n",
              "<svg xmlns=\"http://www.w3.org/2000/svg\" height=\"24px\"viewBox=\"0 0 24 24\"\n",
              "     width=\"24px\">\n",
              "    <g>\n",
              "        <path d=\"M19 3H5c-1.1 0-2 .9-2 2v14c0 1.1.9 2 2 2h14c1.1 0 2-.9 2-2V5c0-1.1-.9-2-2-2zM9 17H7v-7h2v7zm4 0h-2V7h2v10zm4 0h-2v-4h2v4z\"/>\n",
              "    </g>\n",
              "</svg>\n",
              "  </button>\n",
              "\n",
              "<style>\n",
              "  .colab-df-quickchart {\n",
              "      --bg-color: #E8F0FE;\n",
              "      --fill-color: #1967D2;\n",
              "      --hover-bg-color: #E2EBFA;\n",
              "      --hover-fill-color: #174EA6;\n",
              "      --disabled-fill-color: #AAA;\n",
              "      --disabled-bg-color: #DDD;\n",
              "  }\n",
              "\n",
              "  [theme=dark] .colab-df-quickchart {\n",
              "      --bg-color: #3B4455;\n",
              "      --fill-color: #D2E3FC;\n",
              "      --hover-bg-color: #434B5C;\n",
              "      --hover-fill-color: #FFFFFF;\n",
              "      --disabled-bg-color: #3B4455;\n",
              "      --disabled-fill-color: #666;\n",
              "  }\n",
              "\n",
              "  .colab-df-quickchart {\n",
              "    background-color: var(--bg-color);\n",
              "    border: none;\n",
              "    border-radius: 50%;\n",
              "    cursor: pointer;\n",
              "    display: none;\n",
              "    fill: var(--fill-color);\n",
              "    height: 32px;\n",
              "    padding: 0;\n",
              "    width: 32px;\n",
              "  }\n",
              "\n",
              "  .colab-df-quickchart:hover {\n",
              "    background-color: var(--hover-bg-color);\n",
              "    box-shadow: 0 1px 2px rgba(60, 64, 67, 0.3), 0 1px 3px 1px rgba(60, 64, 67, 0.15);\n",
              "    fill: var(--button-hover-fill-color);\n",
              "  }\n",
              "\n",
              "  .colab-df-quickchart-complete:disabled,\n",
              "  .colab-df-quickchart-complete:disabled:hover {\n",
              "    background-color: var(--disabled-bg-color);\n",
              "    fill: var(--disabled-fill-color);\n",
              "    box-shadow: none;\n",
              "  }\n",
              "\n",
              "  .colab-df-spinner {\n",
              "    border: 2px solid var(--fill-color);\n",
              "    border-color: transparent;\n",
              "    border-bottom-color: var(--fill-color);\n",
              "    animation:\n",
              "      spin 1s steps(1) infinite;\n",
              "  }\n",
              "\n",
              "  @keyframes spin {\n",
              "    0% {\n",
              "      border-color: transparent;\n",
              "      border-bottom-color: var(--fill-color);\n",
              "      border-left-color: var(--fill-color);\n",
              "    }\n",
              "    20% {\n",
              "      border-color: transparent;\n",
              "      border-left-color: var(--fill-color);\n",
              "      border-top-color: var(--fill-color);\n",
              "    }\n",
              "    30% {\n",
              "      border-color: transparent;\n",
              "      border-left-color: var(--fill-color);\n",
              "      border-top-color: var(--fill-color);\n",
              "      border-right-color: var(--fill-color);\n",
              "    }\n",
              "    40% {\n",
              "      border-color: transparent;\n",
              "      border-right-color: var(--fill-color);\n",
              "      border-top-color: var(--fill-color);\n",
              "    }\n",
              "    60% {\n",
              "      border-color: transparent;\n",
              "      border-right-color: var(--fill-color);\n",
              "    }\n",
              "    80% {\n",
              "      border-color: transparent;\n",
              "      border-right-color: var(--fill-color);\n",
              "      border-bottom-color: var(--fill-color);\n",
              "    }\n",
              "    90% {\n",
              "      border-color: transparent;\n",
              "      border-bottom-color: var(--fill-color);\n",
              "    }\n",
              "  }\n",
              "</style>\n",
              "\n",
              "  <script>\n",
              "    async function quickchart(key) {\n",
              "      const quickchartButtonEl =\n",
              "        document.querySelector('#' + key + ' button');\n",
              "      quickchartButtonEl.disabled = true;  // To prevent multiple clicks.\n",
              "      quickchartButtonEl.classList.add('colab-df-spinner');\n",
              "      try {\n",
              "        const charts = await google.colab.kernel.invokeFunction(\n",
              "            'suggestCharts', [key], {});\n",
              "      } catch (error) {\n",
              "        console.error('Error during call to suggestCharts:', error);\n",
              "      }\n",
              "      quickchartButtonEl.classList.remove('colab-df-spinner');\n",
              "      quickchartButtonEl.classList.add('colab-df-quickchart-complete');\n",
              "    }\n",
              "    (() => {\n",
              "      let quickchartButtonEl =\n",
              "        document.querySelector('#df-397680f6-fb34-4af2-b49a-6104820b7b3d button');\n",
              "      quickchartButtonEl.style.display =\n",
              "        google.colab.kernel.accessAllowed ? 'block' : 'none';\n",
              "    })();\n",
              "  </script>\n",
              "</div>\n",
              "\n",
              "    </div>\n",
              "  </div>\n"
            ],
            "application/vnd.google.colaboratory.intrinsic+json": {
              "type": "dataframe",
              "variable_name": "matches",
              "summary": "{\n  \"name\": \"matches\",\n  \"rows\": 1095,\n  \"fields\": [\n    {\n      \"column\": \"season\",\n      \"properties\": {\n        \"dtype\": \"category\",\n        \"num_unique_values\": 17,\n        \"samples\": [\n          \"2007/08\",\n          \"2009\",\n          \"2013\"\n        ],\n        \"semantic_type\": \"\",\n        \"description\": \"\"\n      }\n    },\n    {\n      \"column\": \"city\",\n      \"properties\": {\n        \"dtype\": \"category\",\n        \"num_unique_values\": 36,\n        \"samples\": [\n          \"Mohali\",\n          \"Johannesburg\",\n          \"Abu Dhabi\"\n        ],\n        \"semantic_type\": \"\",\n        \"description\": \"\"\n      }\n    },\n    {\n      \"column\": \"date\",\n      \"properties\": {\n        \"dtype\": \"object\",\n        \"num_unique_values\": 823,\n        \"samples\": [\n          \"23-04-2021\",\n          \"06-04-2012\",\n          \"12-05-2009\"\n        ],\n        \"semantic_type\": \"\",\n        \"description\": \"\"\n      }\n    },\n    {\n      \"column\": \"match_type\",\n      \"properties\": {\n        \"dtype\": \"category\",\n        \"num_unique_values\": 8,\n        \"samples\": [\n          \"Semi Final\",\n          \"Elimination Final\",\n          \"League\"\n        ],\n        \"semantic_type\": \"\",\n        \"description\": \"\"\n      }\n    },\n    {\n      \"column\": \"player_of_match\",\n      \"properties\": {\n        \"dtype\": \"category\",\n        \"num_unique_values\": 291,\n        \"samples\": [\n          \"PD Collingwood\",\n          \"DR Sams\",\n          \"CH Gayle\"\n        ],\n        \"semantic_type\": \"\",\n        \"description\": \"\"\n      }\n    },\n    {\n      \"column\": \"venue\",\n      \"properties\": {\n        \"dtype\": \"category\",\n        \"num_unique_values\": 58,\n        \"samples\": [\n          \"M Chinnaswamy Stadium\",\n          \"Sawai Mansingh Stadium\",\n          \"Saurashtra Cricket Association Stadium\"\n        ],\n        \"semantic_type\": \"\",\n        \"description\": \"\"\n      }\n    },\n    {\n      \"column\": \"team1\",\n      \"properties\": {\n        \"dtype\": \"category\",\n        \"num_unique_values\": 17,\n        \"samples\": [\n          \"Royal Challengers Bangalore\",\n          \"Punjab Kings\",\n          \"Rajasthan Royals\"\n        ],\n        \"semantic_type\": \"\",\n        \"description\": \"\"\n      }\n    },\n    {\n      \"column\": \"team2\",\n      \"properties\": {\n        \"dtype\": \"category\",\n        \"num_unique_values\": 17,\n        \"samples\": [\n          \"Kolkata Knight Riders\",\n          \"Chennai Super Kings\",\n          \"Punjab Kings\"\n        ],\n        \"semantic_type\": \"\",\n        \"description\": \"\"\n      }\n    },\n    {\n      \"column\": \"toss_winner\",\n      \"properties\": {\n        \"dtype\": \"category\",\n        \"num_unique_values\": 17,\n        \"samples\": [\n          \"Royal Challengers Bangalore\",\n          \"Chennai Super Kings\",\n          \"Punjab Kings\"\n        ],\n        \"semantic_type\": \"\",\n        \"description\": \"\"\n      }\n    },\n    {\n      \"column\": \"toss_decision\",\n      \"properties\": {\n        \"dtype\": \"category\",\n        \"num_unique_values\": 2,\n        \"samples\": [\n          \"bat\",\n          \"field\"\n        ],\n        \"semantic_type\": \"\",\n        \"description\": \"\"\n      }\n    },\n    {\n      \"column\": \"winner\",\n      \"properties\": {\n        \"dtype\": \"category\",\n        \"num_unique_values\": 17,\n        \"samples\": [\n          \"Kolkata Knight Riders\",\n          \"Chennai Super Kings\"\n        ],\n        \"semantic_type\": \"\",\n        \"description\": \"\"\n      }\n    },\n    {\n      \"column\": \"result\",\n      \"properties\": {\n        \"dtype\": \"category\",\n        \"num_unique_values\": 4,\n        \"samples\": [\n          \"wickets\",\n          \"no result\"\n        ],\n        \"semantic_type\": \"\",\n        \"description\": \"\"\n      }\n    },\n    {\n      \"column\": \"result_margin\",\n      \"properties\": {\n        \"dtype\": \"number\",\n        \"std\": 21,\n        \"min\": 0,\n        \"max\": 146,\n        \"num_unique_values\": 99,\n        \"samples\": [\n          42,\n          17\n        ],\n        \"semantic_type\": \"\",\n        \"description\": \"\"\n      }\n    },\n    {\n      \"column\": \"target_runs\",\n      \"properties\": {\n        \"dtype\": \"number\",\n        \"std\": 34,\n        \"min\": 0,\n        \"max\": 288,\n        \"num_unique_values\": 171,\n        \"samples\": [\n          95,\n          150\n        ],\n        \"semantic_type\": \"\",\n        \"description\": \"\"\n      }\n    },\n    {\n      \"column\": \"target_overs\",\n      \"properties\": {\n        \"dtype\": \"number\",\n        \"std\": 1.8869997681546458,\n        \"min\": 0.0,\n        \"max\": 20.0,\n        \"num_unique_values\": 16,\n        \"samples\": [\n          20.0,\n          16.0\n        ],\n        \"semantic_type\": \"\",\n        \"description\": \"\"\n      }\n    },\n    {\n      \"column\": \"super_over\",\n      \"properties\": {\n        \"dtype\": \"category\",\n        \"num_unique_values\": 2,\n        \"samples\": [\n          \"Y\",\n          \"N\"\n        ],\n        \"semantic_type\": \"\",\n        \"description\": \"\"\n      }\n    },\n    {\n      \"column\": \"is_super_over\",\n      \"properties\": {\n        \"dtype\": \"boolean\",\n        \"num_unique_values\": 2,\n        \"samples\": [\n          true,\n          false\n        ],\n        \"semantic_type\": \"\",\n        \"description\": \"\"\n      }\n    },\n    {\n      \"column\": \"margin_per_ball\",\n      \"properties\": {\n        \"dtype\": \"number\",\n        \"std\": 0.18283537449889742,\n        \"min\": 0.0,\n        \"max\": 1.216666667,\n        \"num_unique_values\": 116,\n        \"samples\": [\n          0.6,\n          0.05\n        ],\n        \"semantic_type\": \"\",\n        \"description\": \"\"\n      }\n    },\n    {\n      \"column\": \"match_id\",\n      \"properties\": {\n        \"dtype\": \"number\",\n        \"std\": 316,\n        \"min\": 1,\n        \"max\": 1095,\n        \"num_unique_values\": 1095,\n        \"samples\": [\n          534,\n          140\n        ],\n        \"semantic_type\": \"\",\n        \"description\": \"\"\n      }\n    }\n  ]\n}"
            }
          },
          "metadata": {},
          "execution_count": 12
        }
      ]
    },
    {
      "cell_type": "code",
      "source": [
        "merged_df = pd.merge(deliveries, matches, on='match_id', how='inner')"
      ],
      "metadata": {
        "id": "zf7xb4_Cm7hP"
      },
      "execution_count": null,
      "outputs": []
    },
    {
      "cell_type": "code",
      "source": [
        "merged_df.to_csv('/content/merged_ipl_data.csv', index=False)"
      ],
      "metadata": {
        "id": "uSc8044vm_10"
      },
      "execution_count": null,
      "outputs": []
    },
    {
      "cell_type": "code",
      "source": [
        "merged_df.head()"
      ],
      "metadata": {
        "colab": {
          "base_uri": "https://localhost:8080/",
          "height": 99
        },
        "id": "4uCscEn7nWgv",
        "outputId": "ac1ce078-3fac-4c56-db03-0741d001ad14"
      },
      "execution_count": null,
      "outputs": [
        {
          "output_type": "execute_result",
          "data": {
            "text/plain": [
              "Empty DataFrame\n",
              "Columns: [match_id, inning, batting_team, bowling_team, over, ball, batter, bowler, non_striker, batsman_runs, extra_runs, total_runs, extras_type, is_wicket, player_dismissed, dismissal_kind, cumulative_runs, over_ball, season, city, date, match_type, player_of_match, venue, team1, team2, toss_winner, toss_decision, winner, result, result_margin, target_runs, target_overs, super_over, is_super_over, margin_per_ball]\n",
              "Index: []\n",
              "\n",
              "[0 rows x 36 columns]"
            ],
            "text/html": [
              "\n",
              "  <div id=\"df-b650f0ef-63dc-446b-81dc-c0c4b7e2d2c8\" class=\"colab-df-container\">\n",
              "    <div>\n",
              "<style scoped>\n",
              "    .dataframe tbody tr th:only-of-type {\n",
              "        vertical-align: middle;\n",
              "    }\n",
              "\n",
              "    .dataframe tbody tr th {\n",
              "        vertical-align: top;\n",
              "    }\n",
              "\n",
              "    .dataframe thead th {\n",
              "        text-align: right;\n",
              "    }\n",
              "</style>\n",
              "<table border=\"1\" class=\"dataframe\">\n",
              "  <thead>\n",
              "    <tr style=\"text-align: right;\">\n",
              "      <th></th>\n",
              "      <th>match_id</th>\n",
              "      <th>inning</th>\n",
              "      <th>batting_team</th>\n",
              "      <th>bowling_team</th>\n",
              "      <th>over</th>\n",
              "      <th>ball</th>\n",
              "      <th>batter</th>\n",
              "      <th>bowler</th>\n",
              "      <th>non_striker</th>\n",
              "      <th>batsman_runs</th>\n",
              "      <th>...</th>\n",
              "      <th>toss_winner</th>\n",
              "      <th>toss_decision</th>\n",
              "      <th>winner</th>\n",
              "      <th>result</th>\n",
              "      <th>result_margin</th>\n",
              "      <th>target_runs</th>\n",
              "      <th>target_overs</th>\n",
              "      <th>super_over</th>\n",
              "      <th>is_super_over</th>\n",
              "      <th>margin_per_ball</th>\n",
              "    </tr>\n",
              "  </thead>\n",
              "  <tbody>\n",
              "  </tbody>\n",
              "</table>\n",
              "<p>0 rows × 36 columns</p>\n",
              "</div>\n",
              "    <div class=\"colab-df-buttons\">\n",
              "\n",
              "  <div class=\"colab-df-container\">\n",
              "    <button class=\"colab-df-convert\" onclick=\"convertToInteractive('df-b650f0ef-63dc-446b-81dc-c0c4b7e2d2c8')\"\n",
              "            title=\"Convert this dataframe to an interactive table.\"\n",
              "            style=\"display:none;\">\n",
              "\n",
              "  <svg xmlns=\"http://www.w3.org/2000/svg\" height=\"24px\" viewBox=\"0 -960 960 960\">\n",
              "    <path d=\"M120-120v-720h720v720H120Zm60-500h600v-160H180v160Zm220 220h160v-160H400v160Zm0 220h160v-160H400v160ZM180-400h160v-160H180v160Zm440 0h160v-160H620v160ZM180-180h160v-160H180v160Zm440 0h160v-160H620v160Z\"/>\n",
              "  </svg>\n",
              "    </button>\n",
              "\n",
              "  <style>\n",
              "    .colab-df-container {\n",
              "      display:flex;\n",
              "      gap: 12px;\n",
              "    }\n",
              "\n",
              "    .colab-df-convert {\n",
              "      background-color: #E8F0FE;\n",
              "      border: none;\n",
              "      border-radius: 50%;\n",
              "      cursor: pointer;\n",
              "      display: none;\n",
              "      fill: #1967D2;\n",
              "      height: 32px;\n",
              "      padding: 0 0 0 0;\n",
              "      width: 32px;\n",
              "    }\n",
              "\n",
              "    .colab-df-convert:hover {\n",
              "      background-color: #E2EBFA;\n",
              "      box-shadow: 0px 1px 2px rgba(60, 64, 67, 0.3), 0px 1px 3px 1px rgba(60, 64, 67, 0.15);\n",
              "      fill: #174EA6;\n",
              "    }\n",
              "\n",
              "    .colab-df-buttons div {\n",
              "      margin-bottom: 4px;\n",
              "    }\n",
              "\n",
              "    [theme=dark] .colab-df-convert {\n",
              "      background-color: #3B4455;\n",
              "      fill: #D2E3FC;\n",
              "    }\n",
              "\n",
              "    [theme=dark] .colab-df-convert:hover {\n",
              "      background-color: #434B5C;\n",
              "      box-shadow: 0px 1px 3px 1px rgba(0, 0, 0, 0.15);\n",
              "      filter: drop-shadow(0px 1px 2px rgba(0, 0, 0, 0.3));\n",
              "      fill: #FFFFFF;\n",
              "    }\n",
              "  </style>\n",
              "\n",
              "    <script>\n",
              "      const buttonEl =\n",
              "        document.querySelector('#df-b650f0ef-63dc-446b-81dc-c0c4b7e2d2c8 button.colab-df-convert');\n",
              "      buttonEl.style.display =\n",
              "        google.colab.kernel.accessAllowed ? 'block' : 'none';\n",
              "\n",
              "      async function convertToInteractive(key) {\n",
              "        const element = document.querySelector('#df-b650f0ef-63dc-446b-81dc-c0c4b7e2d2c8');\n",
              "        const dataTable =\n",
              "          await google.colab.kernel.invokeFunction('convertToInteractive',\n",
              "                                                    [key], {});\n",
              "        if (!dataTable) return;\n",
              "\n",
              "        const docLinkHtml = 'Like what you see? Visit the ' +\n",
              "          '<a target=\"_blank\" href=https://colab.research.google.com/notebooks/data_table.ipynb>data table notebook</a>'\n",
              "          + ' to learn more about interactive tables.';\n",
              "        element.innerHTML = '';\n",
              "        dataTable['output_type'] = 'display_data';\n",
              "        await google.colab.output.renderOutput(dataTable, element);\n",
              "        const docLink = document.createElement('div');\n",
              "        docLink.innerHTML = docLinkHtml;\n",
              "        element.appendChild(docLink);\n",
              "      }\n",
              "    </script>\n",
              "  </div>\n",
              "\n",
              "\n",
              "    </div>\n",
              "  </div>\n"
            ],
            "application/vnd.google.colaboratory.intrinsic+json": {
              "type": "dataframe",
              "variable_name": "merged_df"
            }
          },
          "metadata": {},
          "execution_count": 16
        }
      ]
    },
    {
      "cell_type": "code",
      "source": [
        "print(matches.head())\n",
        "print(deliveries.head())"
      ],
      "metadata": {
        "colab": {
          "base_uri": "https://localhost:8080/"
        },
        "id": "4s1Ih4p1nac5",
        "outputId": "31a4d280-f6eb-4a46-d4d2-9d18323f893c"
      },
      "execution_count": null,
      "outputs": [
        {
          "output_type": "stream",
          "name": "stdout",
          "text": [
            "    season        city        date match_type player_of_match  \\\n",
            "0  2007/08   Bangalore  18-04-2008     League     BB McCullum   \n",
            "1  2007/08  Chandigarh  19-04-2008     League      MEK Hussey   \n",
            "2  2007/08       Delhi  19-04-2008     League     MF Maharoof   \n",
            "3  2007/08      Mumbai  20-04-2008     League      MV Boucher   \n",
            "4  2007/08     Kolkata  20-04-2008     League       DJ Hussey   \n",
            "\n",
            "                                        venue                        team1  \\\n",
            "0                       M Chinnaswamy Stadium  Royal Challengers Bangalore   \n",
            "1  Punjab Cricket Association Stadium, Mohali                 Punjab Kings   \n",
            "2                            Feroz Shah Kotla               Delhi Capitals   \n",
            "3                            Wankhede Stadium               Mumbai Indians   \n",
            "4                                Eden Gardens        Kolkata Knight Riders   \n",
            "\n",
            "                         team2                  toss_winner toss_decision  \\\n",
            "0        Kolkata Knight Riders  Royal Challengers Bangalore         field   \n",
            "1          Chennai Super Kings          Chennai Super Kings           bat   \n",
            "2             Rajasthan Royals             Rajasthan Royals           bat   \n",
            "3  Royal Challengers Bangalore               Mumbai Indians           bat   \n",
            "4              Deccan Chargers              Deccan Chargers           bat   \n",
            "\n",
            "                        winner   result  result_margin  target_runs  \\\n",
            "0        Kolkata Knight Riders     runs            140          223   \n",
            "1          Chennai Super Kings     runs             33          241   \n",
            "2               Delhi Capitals  wickets              9          130   \n",
            "3  Royal Challengers Bangalore  wickets              5          166   \n",
            "4        Kolkata Knight Riders  wickets              5          111   \n",
            "\n",
            "   target_overs super_over  is_super_over  margin_per_ball  match_id  \n",
            "0          20.0          N          False         1.166667         1  \n",
            "1          20.0          N          False         0.275000         2  \n",
            "2          20.0          N          False         0.075000         3  \n",
            "3          20.0          N          False         0.041667         4  \n",
            "4          20.0          N          False         0.041667         5  \n",
            "   match_id  inning           batting_team                 bowling_team  over  \\\n",
            "0    335982       1  Kolkata Knight Riders  Royal Challengers Bangalore   0.0   \n",
            "1    335982       1  Kolkata Knight Riders  Royal Challengers Bangalore   0.0   \n",
            "2    335982       1  Kolkata Knight Riders  Royal Challengers Bangalore   0.0   \n",
            "3    335982       1  Kolkata Knight Riders  Royal Challengers Bangalore   0.0   \n",
            "4    335982       1  Kolkata Knight Riders  Royal Challengers Bangalore   0.0   \n",
            "\n",
            "   ball       batter   bowler  non_striker  batsman_runs  extra_runs  \\\n",
            "0   1.0   SC Ganguly  P Kumar  BB McCullum           0.0         1.0   \n",
            "1   2.0  BB McCullum  P Kumar   SC Ganguly           0.0         0.0   \n",
            "2   3.0  BB McCullum  P Kumar   SC Ganguly           0.0         1.0   \n",
            "3   4.0  BB McCullum  P Kumar   SC Ganguly           0.0         0.0   \n",
            "4   5.0  BB McCullum  P Kumar   SC Ganguly           0.0         0.0   \n",
            "\n",
            "   total_runs extras_type  is_wicket player_dismissed dismissal_kind  \\\n",
            "0         1.0     legbyes        0.0              NaN            NaN   \n",
            "1         0.0         NaN        0.0              NaN            NaN   \n",
            "2         1.0       wides        0.0              NaN            NaN   \n",
            "3         0.0         NaN        0.0              NaN            NaN   \n",
            "4         0.0         NaN        0.0              NaN            NaN   \n",
            "\n",
            "   cumulative_runs  over_ball  \n",
            "0              1.0        0.1  \n",
            "1              1.0        0.2  \n",
            "2              2.0        0.3  \n",
            "3              2.0        0.4  \n",
            "4              2.0        0.5  \n"
          ]
        }
      ]
    },
    {
      "cell_type": "code",
      "source": [
        "print(\"Unique match_ids in Deliveries:\", deliveries['match_id'].unique()[:10])"
      ],
      "metadata": {
        "colab": {
          "base_uri": "https://localhost:8080/"
        },
        "id": "33VSXFKHoOkp",
        "outputId": "ad24bb7a-9067-4c84-f99c-613123e369f1"
      },
      "execution_count": null,
      "outputs": [
        {
          "output_type": "stream",
          "name": "stdout",
          "text": [
            "Unique match_ids in Deliveries: [335982 335983 335984 335985 335986 335987 335988 335989 335990 335991]\n"
          ]
        }
      ]
    },
    {
      "cell_type": "code",
      "source": [
        "print(matches[['date', 'team1', 'team2']].head(10))"
      ],
      "metadata": {
        "colab": {
          "base_uri": "https://localhost:8080/"
        },
        "id": "_laiA6j7ob1t",
        "outputId": "332816bb-6b84-429b-fbd6-88f1ed909c78"
      },
      "execution_count": null,
      "outputs": [
        {
          "output_type": "stream",
          "name": "stdout",
          "text": [
            "         date                        team1                        team2\n",
            "0  18-04-2008  Royal Challengers Bangalore        Kolkata Knight Riders\n",
            "1  19-04-2008                 Punjab Kings          Chennai Super Kings\n",
            "2  19-04-2008               Delhi Capitals             Rajasthan Royals\n",
            "3  20-04-2008               Mumbai Indians  Royal Challengers Bangalore\n",
            "4  20-04-2008        Kolkata Knight Riders              Deccan Chargers\n",
            "5  21-04-2008             Rajasthan Royals                 Punjab Kings\n",
            "6  22-04-2008              Deccan Chargers               Delhi Capitals\n",
            "7  23-04-2008          Chennai Super Kings               Mumbai Indians\n",
            "8  24-04-2008              Deccan Chargers             Rajasthan Royals\n",
            "9  25-04-2008                 Punjab Kings               Mumbai Indians\n"
          ]
        }
      ]
    },
    {
      "cell_type": "code",
      "source": [
        "unique_match_ids = deliveries['match_id'].unique()\n"
      ],
      "metadata": {
        "id": "jwqW5XPtoet7"
      },
      "execution_count": null,
      "outputs": []
    },
    {
      "cell_type": "code",
      "source": [
        "if len(unique_match_ids) == len(matches):\n",
        "    matches['match_id'] = unique_match_ids\n",
        "else:\n",
        "    print(\"Mismatch in match count! Need a different approach.\")"
      ],
      "metadata": {
        "colab": {
          "base_uri": "https://localhost:8080/"
        },
        "id": "3WjzdTkEoyM3",
        "outputId": "7795727d-a9cf-4fff-d8e6-7d0b7d2a74f2"
      },
      "execution_count": null,
      "outputs": [
        {
          "output_type": "stream",
          "name": "stdout",
          "text": [
            "Mismatch in match count! Need a different approach.\n"
          ]
        }
      ]
    },
    {
      "cell_type": "code",
      "source": [
        "print(\"Total matches in Matches dataset:\", matches.shape[0])\n",
        "print(\"Total unique match_ids in Deliveries dataset:\", deliveries['match_id'].nunique())"
      ],
      "metadata": {
        "colab": {
          "base_uri": "https://localhost:8080/"
        },
        "id": "sUeYS8sDpAyO",
        "outputId": "d9690a56-0e08-4010-ed21-a0f5bc1c0221"
      },
      "execution_count": null,
      "outputs": [
        {
          "output_type": "stream",
          "name": "stdout",
          "text": [
            "Total matches in Matches dataset: 1095\n",
            "Total unique match_ids in Deliveries dataset: 130\n"
          ]
        }
      ]
    },
    {
      "cell_type": "code",
      "source": [
        "print(\"Total matches in Matches dataset:\", matches.shape[0])\n",
        "print(\"Total unique match_ids in Deliveries dataset:\", deliveries['match_id'].nunique())"
      ],
      "metadata": {
        "colab": {
          "base_uri": "https://localhost:8080/"
        },
        "id": "odTBZ7o_pGGS",
        "outputId": "aa585547-54ad-47ba-f42c-77bb48ebde11"
      },
      "execution_count": null,
      "outputs": [
        {
          "output_type": "stream",
          "name": "stdout",
          "text": [
            "Total matches in Matches dataset: 1095\n",
            "Total unique match_ids in Deliveries dataset: 130\n"
          ]
        }
      ]
    },
    {
      "cell_type": "code",
      "source": [
        "print(\"\\nSample deliveries dataset (first 10 unique match_ids):\")\n",
        "print(deliveries['match_id'].unique()[:10])"
      ],
      "metadata": {
        "colab": {
          "base_uri": "https://localhost:8080/"
        },
        "id": "GrfxfYH3pKYJ",
        "outputId": "a2660efb-65f6-4cf4-aa02-ac9b582d1cfa"
      },
      "execution_count": null,
      "outputs": [
        {
          "output_type": "stream",
          "name": "stdout",
          "text": [
            "\n",
            "Sample deliveries dataset (first 10 unique match_ids):\n",
            "[335982 335983 335984 335985 335986 335987 335988 335989 335990 335991]\n"
          ]
        }
      ]
    },
    {
      "cell_type": "code",
      "source": [
        "print(\"Total matches in Matches dataset:\", matches.shape[0])\n",
        "print(\"Total unique match_ids in Deliveries dataset:\", deliveries['match_id'].nunique())"
      ],
      "metadata": {
        "colab": {
          "base_uri": "https://localhost:8080/"
        },
        "id": "GZDIxaaKpmLu",
        "outputId": "5e2c6da5-d088-45e6-a4b6-ab7e0df602b0"
      },
      "execution_count": null,
      "outputs": [
        {
          "output_type": "stream",
          "name": "stdout",
          "text": [
            "Total matches in Matches dataset: 1095\n",
            "Total unique match_ids in Deliveries dataset: 130\n"
          ]
        }
      ]
    },
    {
      "cell_type": "code",
      "source": [
        "match_ids_in_deliveries = set(deliveries['match_id'].unique())"
      ],
      "metadata": {
        "id": "sgC2x4wNp_jl"
      },
      "execution_count": null,
      "outputs": []
    },
    {
      "cell_type": "code",
      "source": [
        "print(\"First 10 dates in Matches dataset:\\n\", matches['date'].head(10))\n",
        "print(\"\\nFirst 10 match_ids in Deliveries dataset:\\n\", deliveries['match_id'].unique()[:10])"
      ],
      "metadata": {
        "colab": {
          "base_uri": "https://localhost:8080/"
        },
        "id": "pycP2M7CqBZA",
        "outputId": "abb5ccd2-bbf3-4e1f-c233-6e4d02ccd54a"
      },
      "execution_count": null,
      "outputs": [
        {
          "output_type": "stream",
          "name": "stdout",
          "text": [
            "First 10 dates in Matches dataset:\n",
            " 0    18-04-2008\n",
            "1    19-04-2008\n",
            "2    19-04-2008\n",
            "3    20-04-2008\n",
            "4    20-04-2008\n",
            "5    21-04-2008\n",
            "6    22-04-2008\n",
            "7    23-04-2008\n",
            "8    24-04-2008\n",
            "9    25-04-2008\n",
            "Name: date, dtype: object\n",
            "\n",
            "First 10 match_ids in Deliveries dataset:\n",
            " [335982 335983 335984 335985 335986 335987 335988 335989 335990 335991]\n"
          ]
        }
      ]
    },
    {
      "cell_type": "code",
      "source": [
        "matches['match_id'] = matches['date'].astype(str) + \"_\" + matches['team1'] + \"_\" + matches['team2']\n",
        "matches_in_both = matches[matches['match_id'].isin(match_ids_in_deliveries)]"
      ],
      "metadata": {
        "id": "vU3tl27AqGyl"
      },
      "execution_count": null,
      "outputs": []
    },
    {
      "cell_type": "code",
      "source": [
        "print(\"\\nNumber of Matches present in both datasets:\", matches_in_both.shape[0])"
      ],
      "metadata": {
        "colab": {
          "base_uri": "https://localhost:8080/"
        },
        "id": "2ok9lyAtqKlM",
        "outputId": "09e4e76e-da87-474d-ea27-5a95654e488a"
      },
      "execution_count": null,
      "outputs": [
        {
          "output_type": "stream",
          "name": "stdout",
          "text": [
            "\n",
            "Number of Matches present in both datasets: 0\n"
          ]
        }
      ]
    },
    {
      "cell_type": "code",
      "source": [
        "print(\"Unique match_id values in Deliveries dataset:\", deliveries['match_id'].unique()[:10])\n"
      ],
      "metadata": {
        "colab": {
          "base_uri": "https://localhost:8080/"
        },
        "id": "psHzSKG-qOkL",
        "outputId": "8d7a4913-38b7-4db0-f0d5-b47997ff6bfd"
      },
      "execution_count": null,
      "outputs": [
        {
          "output_type": "stream",
          "name": "stdout",
          "text": [
            "Unique match_id values in Deliveries dataset: [335982 335983 335984 335985 335986 335987 335988 335989 335990 335991]\n"
          ]
        }
      ]
    },
    {
      "cell_type": "code",
      "source": [
        "matches['date'] = pd.to_datetime(matches['date']).dt.strftime('%Y-%m-%d')\n",
        "\n",
        "matches['match_key'] = matches['date'] + \"_\" + matches['team1'] + \"_\" + matches['team2']\n"
      ],
      "metadata": {
        "id": "UTFIV12Lqq52"
      },
      "execution_count": null,
      "outputs": []
    },
    {
      "cell_type": "code",
      "source": [
        "first_delivery_per_match = deliveries.groupby('match_id').first().reset_index()"
      ],
      "metadata": {
        "id": "HRALo_UXrTfN"
      },
      "execution_count": null,
      "outputs": []
    },
    {
      "cell_type": "code",
      "source": [
        "print(deliveries.columns.tolist())"
      ],
      "metadata": {
        "colab": {
          "base_uri": "https://localhost:8080/"
        },
        "id": "lBBa7TVortgN",
        "outputId": "1ca4dcfe-fa80-4933-e10d-3e784f065953"
      },
      "execution_count": null,
      "outputs": [
        {
          "output_type": "stream",
          "name": "stdout",
          "text": [
            "['match_id', 'inning', 'batting_team', 'bowling_team', 'over', 'ball', 'batter', 'bowler', 'non_striker', 'batsman_runs', 'extra_runs', 'total_runs', 'extras_type', 'is_wicket', 'player_dismissed', 'dismissal_kind', 'cumulative_runs', 'over_ball']\n"
          ]
        }
      ]
    },
    {
      "cell_type": "code",
      "source": [
        "print(first_delivery_per_match.columns.tolist())"
      ],
      "metadata": {
        "colab": {
          "base_uri": "https://localhost:8080/"
        },
        "id": "XW2cv0ANr4dR",
        "outputId": "733c5bd6-41a7-4206-b15f-3d893147b53e"
      },
      "execution_count": null,
      "outputs": [
        {
          "output_type": "stream",
          "name": "stdout",
          "text": [
            "['match_id', 'inning', 'batting_team', 'bowling_team', 'over', 'ball', 'batter', 'bowler', 'non_striker', 'batsman_runs', 'extra_runs', 'total_runs', 'extras_type', 'is_wicket', 'player_dismissed', 'dismissal_kind', 'cumulative_runs', 'over_ball']\n"
          ]
        }
      ]
    },
    {
      "cell_type": "code",
      "source": [
        "matches['date'] = pd.to_datetime(matches['date']).dt.strftime('%Y-%m-%d')"
      ],
      "metadata": {
        "id": "fHqSnskqsJsc"
      },
      "execution_count": null,
      "outputs": []
    },
    {
      "cell_type": "code",
      "source": [
        "matches['match_key'] = matches['date'] + \"_\" + matches['team1'] + \"_\" + matches['team2'] + \"_\" + matches['venue']"
      ],
      "metadata": {
        "id": "ODDKL5kGsLqm"
      },
      "execution_count": null,
      "outputs": []
    },
    {
      "cell_type": "code",
      "source": [
        "print(matches[['match_key']].head())"
      ],
      "metadata": {
        "colab": {
          "base_uri": "https://localhost:8080/"
        },
        "id": "BLmryijYsPnH",
        "outputId": "28a7753a-35af-4e7d-ac64-9fb090a64b0a"
      },
      "execution_count": null,
      "outputs": [
        {
          "output_type": "stream",
          "name": "stdout",
          "text": [
            "                                           match_key\n",
            "0  2008-04-18_Royal Challengers Bangalore_Kolkata...\n",
            "1  2008-04-19_Punjab Kings_Chennai Super Kings_Pu...\n",
            "2  2008-04-19_Delhi Capitals_Rajasthan Royals_Fer...\n",
            "3  2008-04-20_Mumbai Indians_Royal Challengers Ba...\n",
            "4  2008-04-20_Kolkata Knight Riders_Deccan Charge...\n"
          ]
        }
      ]
    },
    {
      "cell_type": "code",
      "source": [
        "print(deliveries.columns.tolist())"
      ],
      "metadata": {
        "colab": {
          "base_uri": "https://localhost:8080/"
        },
        "id": "m4gH_S0ZtBzA",
        "outputId": "9f5ddd94-629f-4df0-aa40-c025c07c0d32"
      },
      "execution_count": null,
      "outputs": [
        {
          "output_type": "stream",
          "name": "stdout",
          "text": [
            "['match_id', 'inning', 'batting_team', 'bowling_team', 'over', 'ball', 'batter', 'bowler', 'non_striker', 'batsman_runs', 'extra_runs', 'total_runs', 'extras_type', 'is_wicket', 'player_dismissed', 'dismissal_kind', 'cumulative_runs', 'over_ball']\n"
          ]
        }
      ]
    },
    {
      "cell_type": "code",
      "source": [
        "matches['match_key'] = matches['team1'] + \"_\" + matches['team2'] + \"_\" + matches['venue']"
      ],
      "metadata": {
        "id": "khmYRh3stSR5"
      },
      "execution_count": null,
      "outputs": []
    },
    {
      "cell_type": "code",
      "source": [
        "print(matches[['match_key']].head())"
      ],
      "metadata": {
        "colab": {
          "base_uri": "https://localhost:8080/"
        },
        "id": "0byvjdcUtT8H",
        "outputId": "7d8048a3-9ee0-4dd0-e8c7-46e1543cfbbd"
      },
      "execution_count": null,
      "outputs": [
        {
          "output_type": "stream",
          "name": "stdout",
          "text": [
            "                                           match_key\n",
            "0  Royal Challengers Bangalore_Kolkata Knight Rid...\n",
            "1  Punjab Kings_Chennai Super Kings_Punjab Cricke...\n",
            "2   Delhi Capitals_Rajasthan Royals_Feroz Shah Kotla\n",
            "3  Mumbai Indians_Royal Challengers Bangalore_Wan...\n",
            "4  Kolkata Knight Riders_Deccan Chargers_Eden Gar...\n"
          ]
        }
      ]
    },
    {
      "cell_type": "code",
      "source": [
        "print(matches.columns.tolist())  # Ensure 'match_key' is in the list\n",
        "print(matches[['match_key']].head())  # Check the first few rows of match_key"
      ],
      "metadata": {
        "colab": {
          "base_uri": "https://localhost:8080/"
        },
        "id": "6MuwHGwatv3E",
        "outputId": "f4d8b839-15e6-418d-d589-5e8562f1000f"
      },
      "execution_count": null,
      "outputs": [
        {
          "output_type": "stream",
          "name": "stdout",
          "text": [
            "['season', 'city', 'date', 'match_type', 'player_of_match', 'venue', 'team1', 'team2', 'toss_winner', 'toss_decision', 'winner', 'result', 'result_margin', 'target_runs', 'target_overs', 'super_over', 'is_super_over', 'margin_per_ball', 'match_id', 'match_key']\n",
            "                                           match_key\n",
            "0  Royal Challengers Bangalore_Kolkata Knight Rid...\n",
            "1  Punjab Kings_Chennai Super Kings_Punjab Cricke...\n",
            "2   Delhi Capitals_Rajasthan Royals_Feroz Shah Kotla\n",
            "3  Mumbai Indians_Royal Challengers Bangalore_Wan...\n",
            "4  Kolkata Knight Riders_Deccan Chargers_Eden Gar...\n"
          ]
        }
      ]
    },
    {
      "cell_type": "code",
      "source": [
        "deliveries['match_key'] = deliveries['batting_team'] + \"_\" + deliveries['bowling_team']\n"
      ],
      "metadata": {
        "id": "_qq5zteStz8d"
      },
      "execution_count": null,
      "outputs": []
    },
    {
      "cell_type": "code",
      "source": [
        "print(deliveries[['match_key']].head())"
      ],
      "metadata": {
        "colab": {
          "base_uri": "https://localhost:8080/"
        },
        "id": "yGySY3C4uiJ3",
        "outputId": "330e3e3a-e108-496f-ae1a-effbd060f958"
      },
      "execution_count": null,
      "outputs": [
        {
          "output_type": "stream",
          "name": "stdout",
          "text": [
            "                                           match_key\n",
            "0  Kolkata Knight Riders_Royal Challengers Bangalore\n",
            "1  Kolkata Knight Riders_Royal Challengers Bangalore\n",
            "2  Kolkata Knight Riders_Royal Challengers Bangalore\n",
            "3  Kolkata Knight Riders_Royal Challengers Bangalore\n",
            "4  Kolkata Knight Riders_Royal Challengers Bangalore\n"
          ]
        }
      ]
    },
    {
      "cell_type": "code",
      "source": [
        "print(matches[['match_key']].head())"
      ],
      "metadata": {
        "colab": {
          "base_uri": "https://localhost:8080/"
        },
        "id": "rTvrIA54umL3",
        "outputId": "df527fb0-52e3-4489-daf0-4a2dbf391b12"
      },
      "execution_count": null,
      "outputs": [
        {
          "output_type": "stream",
          "name": "stdout",
          "text": [
            "                                           match_key\n",
            "0  Royal Challengers Bangalore_Kolkata Knight Rid...\n",
            "1  Punjab Kings_Chennai Super Kings_Punjab Cricke...\n",
            "2   Delhi Capitals_Rajasthan Royals_Feroz Shah Kotla\n",
            "3  Mumbai Indians_Royal Challengers Bangalore_Wan...\n",
            "4  Kolkata Knight Riders_Deccan Chargers_Eden Gar...\n"
          ]
        }
      ]
    },
    {
      "cell_type": "code",
      "source": [
        "merged_df = pd.merge(deliveries, matches, on='match_key', how='inner')"
      ],
      "metadata": {
        "id": "fsPFhIQMusIa"
      },
      "execution_count": null,
      "outputs": []
    },
    {
      "cell_type": "code",
      "source": [
        "merged_df.to_csv('/content/merged_ipl_data.csv', index=False)"
      ],
      "metadata": {
        "id": "Wl0DBdcquwHD"
      },
      "execution_count": null,
      "outputs": []
    },
    {
      "cell_type": "code",
      "source": [
        "print(\"Merged Dataset Shape:\", merged_df.shape)"
      ],
      "metadata": {
        "colab": {
          "base_uri": "https://localhost:8080/"
        },
        "id": "PBWYAE4yu32K",
        "outputId": "70391e1e-887f-4623-c214-99d7c73b1585"
      },
      "execution_count": null,
      "outputs": [
        {
          "output_type": "stream",
          "name": "stdout",
          "text": [
            "Merged Dataset Shape: (0, 38)\n"
          ]
        }
      ]
    },
    {
      "cell_type": "code",
      "source": [
        "print(matches[['match_key']].head())"
      ],
      "metadata": {
        "colab": {
          "base_uri": "https://localhost:8080/"
        },
        "id": "QXGf7wwivQNe",
        "outputId": "15e86af2-d81d-4909-857d-afdcf5e47e20"
      },
      "execution_count": null,
      "outputs": [
        {
          "output_type": "stream",
          "name": "stdout",
          "text": [
            "                                           match_key\n",
            "0  Royal Challengers Bangalore_Kolkata Knight Rid...\n",
            "1  Punjab Kings_Chennai Super Kings_Punjab Cricke...\n",
            "2   Delhi Capitals_Rajasthan Royals_Feroz Shah Kotla\n",
            "3  Mumbai Indians_Royal Challengers Bangalore_Wan...\n",
            "4  Kolkata Knight Riders_Deccan Chargers_Eden Gar...\n"
          ]
        }
      ]
    },
    {
      "cell_type": "code",
      "source": [
        "print(deliveries[['match_key']].head())"
      ],
      "metadata": {
        "colab": {
          "base_uri": "https://localhost:8080/"
        },
        "id": "8qRB7YsEvRle",
        "outputId": "0620ba46-dd67-4218-d4e3-8c538aedd533"
      },
      "execution_count": null,
      "outputs": [
        {
          "output_type": "stream",
          "name": "stdout",
          "text": [
            "                                           match_key\n",
            "0  Kolkata Knight Riders_Royal Challengers Bangalore\n",
            "1  Kolkata Knight Riders_Royal Challengers Bangalore\n",
            "2  Kolkata Knight Riders_Royal Challengers Bangalore\n",
            "3  Kolkata Knight Riders_Royal Challengers Bangalore\n",
            "4  Kolkata Knight Riders_Royal Challengers Bangalore\n"
          ]
        }
      ]
    },
    {
      "cell_type": "code",
      "source": [
        "print(matches[['team1', 'team2']].head())"
      ],
      "metadata": {
        "colab": {
          "base_uri": "https://localhost:8080/"
        },
        "id": "yHlAvhNgvVKv",
        "outputId": "d268d700-f745-48e6-db69-580c02e03edb"
      },
      "execution_count": null,
      "outputs": [
        {
          "output_type": "stream",
          "name": "stdout",
          "text": [
            "                         team1                        team2\n",
            "0  Royal Challengers Bangalore        Kolkata Knight Riders\n",
            "1                 Punjab Kings          Chennai Super Kings\n",
            "2               Delhi Capitals             Rajasthan Royals\n",
            "3               Mumbai Indians  Royal Challengers Bangalore\n",
            "4        Kolkata Knight Riders              Deccan Chargers\n"
          ]
        }
      ]
    },
    {
      "cell_type": "code",
      "source": [
        "print(deliveries[['batting_team', 'bowling_team']].head())"
      ],
      "metadata": {
        "colab": {
          "base_uri": "https://localhost:8080/"
        },
        "id": "fe6HOPBQvZGe",
        "outputId": "578a9729-2599-4f32-b890-ca527e7f4e27"
      },
      "execution_count": null,
      "outputs": [
        {
          "output_type": "stream",
          "name": "stdout",
          "text": [
            "            batting_team                 bowling_team\n",
            "0  Kolkata Knight Riders  Royal Challengers Bangalore\n",
            "1  Kolkata Knight Riders  Royal Challengers Bangalore\n",
            "2  Kolkata Knight Riders  Royal Challengers Bangalore\n",
            "3  Kolkata Knight Riders  Royal Challengers Bangalore\n",
            "4  Kolkata Knight Riders  Royal Challengers Bangalore\n"
          ]
        }
      ]
    },
    {
      "cell_type": "code",
      "source": [
        "deliveries['match_key'] = deliveries['batting_team'] + \"_\" + deliveries['bowling_team']\n",
        "deliveries['match_key_rev'] = deliveries['bowling_team'] + \"_\" + deliveries['batting_team']"
      ],
      "metadata": {
        "id": "7zKNaiE5vcGA"
      },
      "execution_count": null,
      "outputs": []
    },
    {
      "cell_type": "code",
      "source": [
        "print(deliveries[['match_key', 'match_key_rev']].head())"
      ],
      "metadata": {
        "colab": {
          "base_uri": "https://localhost:8080/"
        },
        "id": "OL0Yq29avhK2",
        "outputId": "435c46b4-759b-48d1-fc8d-c68f7af8fd83"
      },
      "execution_count": null,
      "outputs": [
        {
          "output_type": "stream",
          "name": "stdout",
          "text": [
            "                                           match_key  \\\n",
            "0  Kolkata Knight Riders_Royal Challengers Bangalore   \n",
            "1  Kolkata Knight Riders_Royal Challengers Bangalore   \n",
            "2  Kolkata Knight Riders_Royal Challengers Bangalore   \n",
            "3  Kolkata Knight Riders_Royal Challengers Bangalore   \n",
            "4  Kolkata Knight Riders_Royal Challengers Bangalore   \n",
            "\n",
            "                                       match_key_rev  \n",
            "0  Royal Challengers Bangalore_Kolkata Knight Riders  \n",
            "1  Royal Challengers Bangalore_Kolkata Knight Riders  \n",
            "2  Royal Challengers Bangalore_Kolkata Knight Riders  \n",
            "3  Royal Challengers Bangalore_Kolkata Knight Riders  \n",
            "4  Royal Challengers Bangalore_Kolkata Knight Riders  \n"
          ]
        }
      ]
    },
    {
      "cell_type": "code",
      "source": [
        "merged_df = pd.merge(deliveries, matches, left_on='match_key', right_on='match_key', how='outer')\n",
        "merged_df_rev = pd.merge(deliveries, matches, left_on='match_key_rev', right_on='match_key', how='outer')"
      ],
      "metadata": {
        "id": "3SyKBZqzvlAE"
      },
      "execution_count": null,
      "outputs": []
    },
    {
      "cell_type": "code",
      "source": [
        "print(\"Merged Dataset (match_key):\", merged_df.shape)\n",
        "print(\"Merged Dataset (match_key_rev):\", merged_df_rev.shape)"
      ],
      "metadata": {
        "colab": {
          "base_uri": "https://localhost:8080/"
        },
        "id": "PjLHMIUfvp-v",
        "outputId": "5b75a183-7a50-423e-ff78-dace4938bcd1"
      },
      "execution_count": null,
      "outputs": [
        {
          "output_type": "stream",
          "name": "stdout",
          "text": [
            "Merged Dataset (match_key): (31620, 39)\n",
            "Merged Dataset (match_key_rev): (31620, 40)\n"
          ]
        }
      ]
    },
    {
      "cell_type": "code",
      "source": [
        "final_merged_df = pd.concat([merged_df, merged_df_rev]).drop_duplicates()"
      ],
      "metadata": {
        "id": "AaIMznHCvutE"
      },
      "execution_count": null,
      "outputs": []
    },
    {
      "cell_type": "code",
      "source": [
        "print(\"Final Merged Dataset Shape:\", final_merged_df.shape)"
      ],
      "metadata": {
        "colab": {
          "base_uri": "https://localhost:8080/"
        },
        "id": "XSG7qYylv7t7",
        "outputId": "bf1b1276-c8f8-42ab-b262-8bacc5830a39"
      },
      "execution_count": null,
      "outputs": [
        {
          "output_type": "stream",
          "name": "stdout",
          "text": [
            "Final Merged Dataset Shape: (63240, 41)\n"
          ]
        }
      ]
    },
    {
      "cell_type": "code",
      "source": [
        "final_merged_df.to_csv('/content/final_merged_ipl_data.csv', index=False)"
      ],
      "metadata": {
        "id": "9147AHMtwAyB"
      },
      "execution_count": null,
      "outputs": []
    },
    {
      "cell_type": "code",
      "source": [
        "print(final_merged_df.head())"
      ],
      "metadata": {
        "id": "bkgeeu8GwGOU",
        "outputId": "f56d8cfa-1de7-4788-a7a4-1eb376c27a7a",
        "colab": {
          "base_uri": "https://localhost:8080/"
        }
      },
      "execution_count": null,
      "outputs": [
        {
          "output_type": "stream",
          "name": "stdout",
          "text": [
            "   match_id_x  inning         batting_team     bowling_team  over  ball  \\\n",
            "0    336007.0     1.0  Chennai Super Kings  Deccan Chargers   0.0   1.0   \n",
            "1    336007.0     1.0  Chennai Super Kings  Deccan Chargers   0.0   2.0   \n",
            "2    336007.0     1.0  Chennai Super Kings  Deccan Chargers   0.0   3.0   \n",
            "3    336007.0     1.0  Chennai Super Kings  Deccan Chargers   0.0   4.0   \n",
            "4    336007.0     1.0  Chennai Super Kings  Deccan Chargers   0.0   5.0   \n",
            "\n",
            "     batter         bowler non_striker  batsman_runs  ...  result  \\\n",
            "0  PA Patel  DP Vijaykumar  SP Fleming           0.0  ...     NaN   \n",
            "1  PA Patel  DP Vijaykumar  SP Fleming           0.0  ...     NaN   \n",
            "2  PA Patel  DP Vijaykumar  SP Fleming           4.0  ...     NaN   \n",
            "3  PA Patel  DP Vijaykumar  SP Fleming           0.0  ...     NaN   \n",
            "4  PA Patel  DP Vijaykumar  SP Fleming           0.0  ...     NaN   \n",
            "\n",
            "   result_margin target_runs  target_overs super_over is_super_over  \\\n",
            "0            NaN         NaN           NaN        NaN           NaN   \n",
            "1            NaN         NaN           NaN        NaN           NaN   \n",
            "2            NaN         NaN           NaN        NaN           NaN   \n",
            "3            NaN         NaN           NaN        NaN           NaN   \n",
            "4            NaN         NaN           NaN        NaN           NaN   \n",
            "\n",
            "   margin_per_ball  match_id_y match_key_x match_key_y  \n",
            "0              NaN         NaN         NaN         NaN  \n",
            "1              NaN         NaN         NaN         NaN  \n",
            "2              NaN         NaN         NaN         NaN  \n",
            "3              NaN         NaN         NaN         NaN  \n",
            "4              NaN         NaN         NaN         NaN  \n",
            "\n",
            "[5 rows x 41 columns]\n"
          ]
        }
      ]
    }
  ]
}